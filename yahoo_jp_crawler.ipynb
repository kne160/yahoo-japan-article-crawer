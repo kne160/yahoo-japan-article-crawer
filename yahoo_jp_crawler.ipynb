{
  "nbformat": 4,
  "nbformat_minor": 0,
  "metadata": {
    "colab": {
      "name": "yahoo-jp-crawer.ipynb",
      "provenance": [],
      "collapsed_sections": []
    },
    "kernelspec": {
      "display_name": "Python 3",
      "name": "python3"
    }
  },
  "cells": [
    {
      "cell_type": "code",
      "metadata": {
        "id": "5LdJYzO8Jln0"
      },
      "source": [
        "# check if running on Google Colab\n",
        "if 'google.colab' in str(get_ipython()):\n",
        "\n",
        "    # install Selenium\n",
        "    !pip -q install selenium\n",
        "\n",
        "    # install Chromium\n",
        "    !apt -qq update\n",
        "    !apt -qq install chromium-chromedriver"
      ],
      "execution_count": null,
      "outputs": []
    },
    {
      "cell_type": "code",
      "metadata": {
        "id": "LTb8sYAPr99a"
      },
      "source": [
        "import sys\n",
        "import time\n",
        "from bs4 import BeautifulSoup\n",
        "from selenium import webdriver\n",
        "\n",
        "last_article = \"\" \n",
        "\n",
        "url = \"https://sports.yahoo.co.jp/list/news/ws?genre=ws\"\n",
        "\n",
        "exclude_list = [\"(word1)\", \"(word2)\"]\n",
        "\n",
        "sys.path.insert(0,'/usr/lib/chromium-browser/chromedriver')\n",
        "\n",
        "# ブラウザのオプションを格納する変数を取得\n",
        "options = webdriver.ChromeOptions()\n",
        "\n",
        "# Headlessモードを有効に（コメントアウトするとブラウザが実際に立ち上がる）\n",
        "options.add_argument('--headless')\n",
        "options.add_argument('--no-sandbox')\n",
        "options.add_argument('--disable-dev-shm-usage')\n",
        "\n",
        "# ブラウザを起動\n",
        "driver = webdriver.Chrome(options=options)\n",
        "\n",
        "# ページ取得\n",
        "driver.get(url)\n",
        "\n",
        "# 待機設定\n",
        "driver.implicitly_wait(10)\n",
        "\n",
        "# 「もっと見る」ボタンをクリック\n",
        "driver.find_element_by_id(\"moreViewButton\").click()\n",
        "driver.find_element_by_id(\"moreViewButton\").click()\n",
        "driver.find_element_by_id(\"moreViewButton\").click()\n",
        "driver.find_element_by_id(\"moreViewButton\").click()\n",
        "driver.find_element_by_id(\"moreViewButton\").click()\n",
        "\n",
        "driver.find_element_by_id(\"moreViewButton\").click()\n",
        "driver.find_element_by_id(\"moreViewButton\").click()\n",
        "driver.find_element_by_id(\"moreViewButton\").click()\n",
        "driver.find_element_by_id(\"moreViewButton\").click()\n",
        "driver.find_element_by_id(\"moreViewButton\").click()\n",
        "\n",
        "html = driver.page_source.encode('utf-8')\n",
        "soup = BeautifulSoup(html, \"html5lib\")\n",
        "\n",
        "# ページを表示\n",
        "#print(soup.prettify())\n",
        "\n",
        "body = soup.select('body')\n",
        "\n",
        "flag = False\n",
        "latest_article = \"\"\n",
        "for article in body[0].find_all(class_=\"cm-timeLine__item\"):\n",
        "    flag = False\n",
        "    title = article.find(class_=\"cm-timeLine__itemTitle\").get_text()\n",
        "    link = article.find(class_=\"cm-timeLine__itemArticleLink\").get(\"href\")\n",
        "\n",
        "    if latest_article == \"\":\n",
        "        latest_article = \"last_article = \\\"\" + link + \"\\\"\"\n",
        "        \n",
        "    if link == last_article:\n",
        "        print(\"---------- (Cut) ----------\\n\")\n",
        "        break\n",
        "\n",
        "    for e in exclude_list:\n",
        "        if e in title:\n",
        "            flag = True\n",
        "\n",
        "    if flag == False:\n",
        "        print(title, \"\\n\", link,\"\\n\\n\")\n",
        "\n",
        "print(latest_article, \"\\n\\n\")"
      ],
      "execution_count": null,
      "outputs": []
    }
  ]
}
